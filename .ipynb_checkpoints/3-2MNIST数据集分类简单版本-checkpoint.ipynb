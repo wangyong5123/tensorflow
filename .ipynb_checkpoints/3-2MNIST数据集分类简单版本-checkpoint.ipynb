{
 "cells": [
  {
   "cell_type": "code",
   "execution_count": 7,
   "metadata": {},
   "outputs": [
    {
     "name": "stdout",
     "output_type": "stream",
     "text": [
      "Extracting MNIST_data\\train-images-idx3-ubyte.gz\n",
      "Extracting MNIST_data\\train-labels-idx1-ubyte.gz\n",
      "Extracting MNIST_data\\t10k-images-idx3-ubyte.gz\n",
      "Extracting MNIST_data\\t10k-labels-idx1-ubyte.gz\n",
      "iter0Testing Accuracy0.8305\n",
      "iter1Testing Accuracy0.8708\n",
      "iter2Testing Accuracy0.8816\n",
      "iter3Testing Accuracy0.8883\n",
      "iter4Testing Accuracy0.8945\n",
      "iter5Testing Accuracy0.8971\n",
      "iter6Testing Accuracy0.8997\n",
      "iter7Testing Accuracy0.9012\n",
      "iter8Testing Accuracy0.9034\n",
      "iter9Testing Accuracy0.9051\n",
      "iter10Testing Accuracy0.9065\n",
      "iter11Testing Accuracy0.9075\n",
      "iter12Testing Accuracy0.9085\n",
      "iter13Testing Accuracy0.9094\n",
      "iter14Testing Accuracy0.9103\n",
      "iter15Testing Accuracy0.9103\n",
      "iter16Testing Accuracy0.9119\n",
      "iter17Testing Accuracy0.9124\n",
      "iter18Testing Accuracy0.9131\n",
      "iter19Testing Accuracy0.913\n",
      "iter20Testing Accuracy0.9137\n"
     ]
    }
   ],
   "source": [
    "#简单版本 \n",
    "\n",
    "#batch_size  输入输出层数  \n",
    "#神经元 \n",
    "#激活函数  \n",
    "#初始化值 \n",
    "#代价函数——》交叉熵\n",
    "#其它优化方式\n",
    "#epoch 训练次数\n",
    "\n",
    "import tensorflow as tf\n",
    "from tensorflow.examples.tutorials.mnist import input_data\n",
    "\n",
    "mnist = input_data.read_data_sets('MNIST_data',one_hot = True)\n",
    "#批次大小 每次100张图片\n",
    "batch_size = 100\n",
    "#多少批次\n",
    "n_batch = mnist.train.num_examples//batch_size\n",
    "\n",
    "x = tf.placeholder(tf.float32,[None,784])#28*28=784\n",
    "y = tf.placeholder(tf.float32,[None,10])#10 类\n",
    "\n",
    "#创建一个简单的神经网络\n",
    "W = tf.Variable(tf.zeros([784,10]))\n",
    "b = tf.Variable(tf.zeros([10]))\n",
    "prediction = tf.nn.softmax(tf.matmul(x,W)+b)\n",
    "loss = tf.reduce_mean(tf.square(y - prediction))\n",
    "\n",
    "train_step = tf.train.GradientDescentOptimizer(0.2).minimize(loss)\n",
    "\n",
    "init = tf.global_variables_initializer()\n",
    "\n",
    "#结果存放在bool向量中，\n",
    "correct_prediction = tf.equal(tf.argmax(y,1),tf.argmax(prediction,1))#最大的值在哪个位置\n",
    "\n",
    "#求准确率\n",
    "accuracy = tf.reduce_mean(tf.cast(correct_prediction,tf.float32))#将bool 转化为 float  True 1.0 ;false 0.0 求平均值\n",
    "\n",
    "with tf.Session() as sess:\n",
    "    sess.run(init)\n",
    "    for epoch in range(21):#训练21次\n",
    "        for batch in range(n_batch):\n",
    "            batch_xs,batch_ys = mnist.train.next_batch(batch_size)\n",
    "            sess.run(train_step,feed_dict={x:batch_xs,y:batch_ys})\n",
    "            \n",
    "        acc = sess.run(accuracy,feed_dict={x:mnist.test.images,y:mnist.test.labels})\n",
    "        print(\"iter\"+str(epoch)+\"Testing Accuracy\"+str(acc))"
   ]
  }
 ],
 "metadata": {
  "kernelspec": {
   "display_name": "Python 3",
   "language": "python",
   "name": "python3"
  },
  "language_info": {
   "codemirror_mode": {
    "name": "ipython",
    "version": 3
   },
   "file_extension": ".py",
   "mimetype": "text/x-python",
   "name": "python",
   "nbconvert_exporter": "python",
   "pygments_lexer": "ipython3",
   "version": "3.7.1"
  }
 },
 "nbformat": 4,
 "nbformat_minor": 2
}
