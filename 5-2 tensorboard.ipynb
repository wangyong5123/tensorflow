{
 "cells": [
  {
   "cell_type": "code",
   "execution_count": 1,
   "metadata": {},
   "outputs": [
    {
     "ename": "IndentationError",
     "evalue": "expected an indented block (<ipython-input-1-b0a917488abb>, line 49)",
     "output_type": "error",
     "traceback": [
      "\u001b[1;36m  File \u001b[1;32m\"<ipython-input-1-b0a917488abb>\"\u001b[1;36m, line \u001b[1;32m49\u001b[0m\n\u001b[1;33m    correct_prediction = tf.equal(tf.argmax(y,1),tf.argmax(prediction,1))#最大的值在哪个位置\u001b[0m\n\u001b[1;37m                     ^\u001b[0m\n\u001b[1;31mIndentationError\u001b[0m\u001b[1;31m:\u001b[0m expected an indented block\n"
     ]
    }
   ],
   "source": [
    "#简单版本 \n",
    "\n",
    "#batch_size  输入输出层数  \n",
    "#神经元 \n",
    "#激活函数  \n",
    "#初始化值 \n",
    "#代价函数——》交叉熵\n",
    "#其它优化方式\n",
    "#epoch 训练次数\n",
    "\n",
    "import tensorflow as tf\n",
    "from tensorflow.examples.tutorials.mnist import input_data\n",
    "\n",
    "mnist = input_data.read_data_sets('MNIST_data',one_hot = True)\n",
    "#批次大小 每次100张图片\n",
    "batch_size = 100\n",
    "#多少批次\n",
    "n_batch = mnist.train.num_examples//batch_size\n",
    "\n",
    "with tf.name_scope('input'):\n",
    "    x = tf.placeholder(tf.float32,[None,784],name='x-input')#28*28=784\n",
    "    y = tf.placeholder(tf.float32,[None,10],name='y-input')#10 类\n",
    "\n",
    "with tf.name_scope('layer'):\n",
    "    with tf.name_scope('wights'):\n",
    "        W = tf.Variable(tf.zeros([784,10]))\n",
    "    with tf.name_scope('biases'):\n",
    "        b = tf.Variable(tf.zeros([10]))\n",
    "    with tf.name_scope('matmul'):\n",
    "        wx_plus_b = tf.matmul(x,W)+b\n",
    "    with tf.name_scope('softmax'):\n",
    "        prediction = tf.nn.softmax(wx_plus_b)\n",
    "#创建一个简单的神经网络\n",
    "\n",
    "\n",
    "\n",
    "\n",
    "#二次代价函数\n",
    "with tf.name_scope('loss'):\n",
    "    loss = tf.reduce_mean(tf.square(y - prediction))\n",
    "with tf.name_scope('train'):\n",
    "    train_step = tf.train.GradientDescentOptimizer(0.2).minimize(loss)\n",
    "\n",
    "\n",
    "init = tf.global_variables_initializer()\n",
    "with tf.name_scope('accuracy'):\n",
    "    with tf.name_scope('correct_prediction'):\n",
    "    #结果存放在bool向量中，\n",
    "    correct_prediction = tf.equal(tf.argmax(y,1),tf.argmax(prediction,1))#最大的值在哪个位置\n",
    "    with tf.name_scope('accuracy'):\n",
    "    #求准确率\n",
    "    accuracy = tf.reduce_mean(tf.cast(correct_prediction,tf.float32))#将bool 转化为 float  True 1.0 ;false 0.0 求平均值\n",
    "\n",
    "with tf.Session() as sess:\n",
    "    sess.run(init)\n",
    "    writer = tf.summary.FileWriter('logs',sess.graph)\n",
    "    for epoch in range(21):#训练21次\n",
    "        for batch in range(n_batch):\n",
    "            batch_xs,batch_ys = mnist.train.next_batch(batch_size)\n",
    "            sess.run(train_step,feed_dict={x:batch_xs,y:batch_ys})\n",
    "            \n",
    "        acc = sess.run(accuracy,feed_dict={x:mnist.test.images,y:mnist.test.labels})\n",
    "        print(\"iter\"+str(epoch)+\"Testing Accuracy\"+str(acc))"
   ]
  }
 ],
 "metadata": {
  "kernelspec": {
   "display_name": "Python 3",
   "language": "python",
   "name": "python3"
  },
  "language_info": {
   "codemirror_mode": {
    "name": "ipython",
    "version": 3
   },
   "file_extension": ".py",
   "mimetype": "text/x-python",
   "name": "python",
   "nbconvert_exporter": "python",
   "pygments_lexer": "ipython3",
   "version": "3.7.1"
  }
 },
 "nbformat": 4,
 "nbformat_minor": 2
}
