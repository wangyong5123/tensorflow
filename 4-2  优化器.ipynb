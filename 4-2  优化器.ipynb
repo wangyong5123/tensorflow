{
 "cells": [
  {
   "cell_type": "code",
   "execution_count": 6,
   "metadata": {},
   "outputs": [
    {
     "name": "stdout",
     "output_type": "stream",
     "text": [
      "Extracting MNIST_data\\train-images-idx3-ubyte.gz\n",
      "Extracting MNIST_data\\train-labels-idx1-ubyte.gz\n",
      "Extracting MNIST_data\\t10k-images-idx3-ubyte.gz\n",
      "Extracting MNIST_data\\t10k-labels-idx1-ubyte.gz\n",
      "iter 0Testing Accuracy0.9004\n",
      "iter 1Testing Accuracy0.9112\n",
      "iter 2Testing Accuracy0.9173\n",
      "iter 3Testing Accuracy0.9195\n",
      "iter 4Testing Accuracy0.922\n",
      "iter 5Testing Accuracy0.925\n",
      "iter 6Testing Accuracy0.9272\n",
      "iter 7Testing Accuracy0.9261\n",
      "iter 8Testing Accuracy0.9279\n",
      "iter 9Testing Accuracy0.9297\n",
      "iter 10Testing Accuracy0.9291\n",
      "iter 11Testing Accuracy0.9304\n",
      "iter 12Testing Accuracy0.9307\n",
      "iter 13Testing Accuracy0.9303\n",
      "iter 14Testing Accuracy0.9307\n",
      "iter 15Testing Accuracy0.9317\n",
      "iter 16Testing Accuracy0.9302\n",
      "iter 17Testing Accuracy0.9315\n",
      "iter 18Testing Accuracy0.932\n",
      "iter 19Testing Accuracy0.9318\n",
      "iter 20Testing Accuracy0.931\n"
     ]
    }
   ],
   "source": [
    "#简单版本 \n",
    "#batch_size  输入输出层数  \n",
    "\n",
    "#AdamOptimizer\n",
    "\n",
    "import tensorflow as tf\n",
    "from tensorflow.examples.tutorials.mnist import input_data\n",
    "\n",
    "mnist = input_data.read_data_sets('MNIST_data',one_hot = True)\n",
    "#批次大小 每次100张图片\n",
    "batch_size = 100\n",
    "#多少批次\n",
    "n_batch = mnist.train.num_examples//batch_size\n",
    "\n",
    "x = tf.placeholder(tf.float32,[None,784])#28*28=784\n",
    "y = tf.placeholder(tf.float32,[None,10])#10 类\n",
    "\n",
    "#创建一个简单的神经网络\n",
    "W = tf.Variable(tf.zeros([784,10]))\n",
    "b = tf.Variable(tf.zeros([10]))\n",
    "prediction = tf.nn.softmax(tf.matmul(x,W)+b)\n",
    "\n",
    "#二次代价函数\n",
    "loss = tf.reduce_mean(tf.nn.softmax_cross_entropy_with_logits(labels=y,logits=prediction))\n",
    "\n",
    "train_step = tf.train.AdamOptimizer(0.001).minimize(loss)#le-3 =0.001 收敛速度比随机梯度快\n",
    "#train_step = tf.train.GradientDescentOptimizer(0.2).minimize(loss)\n",
    "\n",
    "init = tf.global_variables_initializer()\n",
    "\n",
    "#结果存放在bool向量中，\n",
    "correct_prediction = tf.equal(tf.argmax(y,1),tf.argmax(prediction,1))#最大的值在哪个位置\n",
    "\n",
    "#求准确率\n",
    "accuracy = tf.reduce_mean(tf.cast(correct_prediction,tf.float32))#将bool 转化为 float  True 1.0 ;false 0.0 求平均值\n",
    "\n",
    "with tf.Session() as sess:\n",
    "    sess.run(init)\n",
    "    for epoch in range(21):#训练21次\n",
    "        for batch in range(n_batch):\n",
    "            batch_xs,batch_ys = mnist.train.next_batch(batch_size)\n",
    "            sess.run(train_step,feed_dict={x:batch_xs,y:batch_ys})\n",
    "            \n",
    "        acc = sess.run(accuracy,feed_dict={x:mnist.test.images,y:mnist.test.labels})\n",
    "        print(\"iter \"+str(epoch)+\"Testing Accuracy\"+str(acc))"
   ]
  },
  {
   "cell_type": "code",
   "execution_count": null,
   "metadata": {},
   "outputs": [],
   "source": [
    "iter0Testing Accuracy0.9003\n",
    "iter1Testing Accuracy0.9098\n",
    "iter2Testing Accuracy0.9167\n",
    "iter3Testing Accuracy0.9201\n",
    "iter4Testing Accuracy0.9226\n",
    "iter5Testing Accuracy0.9235\n",
    "iter6Testing Accuracy0.9245\n",
    "iter7Testing Accuracy0.9268\n",
    "iter8Testing Accuracy0.9282\n",
    "iter9Testing Accuracy0.9287\n",
    "iter10Testing Accuracy0.9297\n",
    "iter11Testing Accuracy0.9294\n",
    "iter12Testing Accuracy0.9304\n",
    "iter13Testing Accuracy0.9303\n",
    "iter14Testing Accuracy0.9301\n",
    "iter15Testing Accuracy0.9306\n",
    "iter16Testing Accuracy0.9305\n",
    "iter17Testing Accuracy0.9312\n",
    "iter18Testing Accuracy0.9311\n",
    "iter19Testing Accuracy0.932\n",
    "iter20Testing Accuracy0.9318"
   ]
  }
 ],
 "metadata": {
  "kernelspec": {
   "display_name": "Python 3",
   "language": "python",
   "name": "python3"
  },
  "language_info": {
   "codemirror_mode": {
    "name": "ipython",
    "version": 3
   },
   "file_extension": ".py",
   "mimetype": "text/x-python",
   "name": "python",
   "nbconvert_exporter": "python",
   "pygments_lexer": "ipython3",
   "version": "3.7.1"
  }
 },
 "nbformat": 4,
 "nbformat_minor": 2
}
